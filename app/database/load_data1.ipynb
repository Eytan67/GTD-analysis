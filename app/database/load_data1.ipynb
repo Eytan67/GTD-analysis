{
 "cells": [
  {
   "metadata": {
    "ExecuteTime": {
     "end_time": "2024-12-23T13:56:19.349408Z",
     "start_time": "2024-12-23T13:56:19.224221Z"
    }
   },
   "cell_type": "code",
   "source": [
    "path_csv2 = 'csv2-5000rows.csv'\n",
    "path_csv1 = 'gdt-1000rows.csv'\n",
    "path_csv2_full = 'csv2-full.csv'\n",
    "\n",
    "from datetime import datetime\n",
    "import pandas as pd\n",
    "df1 = pd.read_csv(path_csv1, encoding='ISO-8859-1')\n",
    "df3 = pd.read_csv(path_csv2_full, encoding='ISO-8859-1')\n",
    "country_region_map = df1[['country_txt', 'region']].drop_duplicates().set_index('country_txt')['region'].to_dict()\n",
    "country_region_map"
   ],
   "id": "11ecd54d4c166c42",
   "outputs": [
    {
     "data": {
      "text/plain": [
       "{'Dominican Republic': 2,\n",
       " 'Mexico': 1,\n",
       " 'Philippines': 5,\n",
       " 'Greece': 8,\n",
       " 'Japan': 4,\n",
       " 'United States': 1,\n",
       " 'Uruguay': 3,\n",
       " 'Italy': 8,\n",
       " 'East Germany (GDR)': 9,\n",
       " 'Ethiopia': 11,\n",
       " 'Guatemala': 2,\n",
       " 'Venezuela': 3,\n",
       " 'West Germany (FRG)': 8,\n",
       " 'Switzerland': 8,\n",
       " 'Jordan': 10,\n",
       " 'Spain': 8,\n",
       " 'Brazil': 3,\n",
       " 'Egypt': 10,\n",
       " 'Argentina': 3,\n",
       " 'Lebanon': 10,\n",
       " 'Ireland': 8,\n",
       " 'Turkey': 10,\n",
       " 'Paraguay': 3,\n",
       " 'Iran': 10,\n",
       " 'United Kingdom': 8,\n",
       " 'Colombia': 3,\n",
       " 'Bolivia': 3,\n",
       " 'Nicaragua': 2,\n",
       " 'Netherlands': 8,\n",
       " 'Belgium': 8,\n",
       " 'Canada': 1,\n",
       " 'Australia': 12,\n",
       " 'Pakistan': 6,\n",
       " 'Zambia': 11,\n",
       " 'Sweden': 8,\n",
       " 'Costa Rica': 2,\n",
       " 'South Yemen': 10,\n",
       " 'Cambodia': 5}"
      ]
     },
     "execution_count": 200,
     "metadata": {},
     "output_type": "execute_result"
    }
   ],
   "execution_count": 200
  },
  {
   "cell_type": "code",
   "id": "initial_id",
   "metadata": {
    "collapsed": true,
    "ExecuteTime": {
     "end_time": "2024-12-23T14:06:34.124358Z",
     "start_time": "2024-12-23T14:06:34.078997Z"
    }
   },
   "source": [
    "df2 = pd.read_csv(path_csv2, encoding='ISO-8859-1')\n",
    "df2['Date'] = pd.to_datetime(df2['Date'], format='%d-%b-%y')\n",
    "df2['Date'] = df2['Date'].apply(lambda x: x.replace(year=1900 + x.year % 100) if pd.notnull(x) and x.year > datetime.now().year else x)\n",
    "\n",
    "df2['iyear'] = df2['Date'].dt.year\n",
    "df2['imonth'] = df2['Date'].dt.month\n",
    "df2['iday'] = df2['Date'].dt.day\n",
    "\n",
    "df2['region'] = df2['Country'].apply(lambda x: country_region_map.get(x))\n",
    "# שינוי שמות של מספר עמודות\n",
    "df2.rename(columns={\n",
    "    'Country': 'country_txt',\n",
    "    'City': 'city',\n",
    "    'Perpetrator': 'gname',\n",
    "    'Injuries': 'nwound',\n",
    "    'Fatalities': 'nkill',\n",
    "}, inplace=True)\n",
    "\n",
    "df2.tail()\n",
    "\n"
   ],
   "outputs": [
    {
     "data": {
      "text/plain": [
       "           Date           city  country_txt  \\\n",
       "4995 1987-11-20          Davao  Philippines   \n",
       "4996 1987-11-25            NaN     Zimbabwe   \n",
       "4997 1987-11-25            NaN       Kuwait   \n",
       "4998 1987-11-25  Kiryat Shmona       Israel   \n",
       "4999 1987-11-26            NaN       Israel   \n",
       "\n",
       "                                                  gname            Weapon  \\\n",
       "4995                            New People's Army (NPA)           Unknown   \n",
       "4996                                              Other          Firearms   \n",
       "4997                                            Unknown  Fire or Firebomb   \n",
       "4998  Popular Front for the Liberation of Palestine ...        Explosives   \n",
       "4999      Palestinian Revolution Forces General Command        Explosives   \n",
       "\n",
       "      nwound  nkill                                        Description  iyear  \\\n",
       "4995       0      0  PHILIPPINES.  The New People's Army (NPA) carr...   1987   \n",
       "4996       0     16  ZIMBABWE.  Antigovernment rebels attacked a mi...   1987   \n",
       "4997       0      0  KUWAIT.  An incendiary device went off at the ...   1987   \n",
       "4998       8      7  ISRAEL.  An Arab guerrilla used a motorized ha...   1987   \n",
       "4999       3      0  ISRAEL.  The Palestinian Revolutionary Forces ...   1987   \n",
       "\n",
       "      imonth  iday  region  \n",
       "4995      11    20     5.0  \n",
       "4996      11    25     NaN  \n",
       "4997      11    25     NaN  \n",
       "4998      11    25     NaN  \n",
       "4999      11    26     NaN  "
      ],
      "text/html": [
       "<div>\n",
       "<style scoped>\n",
       "    .dataframe tbody tr th:only-of-type {\n",
       "        vertical-align: middle;\n",
       "    }\n",
       "\n",
       "    .dataframe tbody tr th {\n",
       "        vertical-align: top;\n",
       "    }\n",
       "\n",
       "    .dataframe thead th {\n",
       "        text-align: right;\n",
       "    }\n",
       "</style>\n",
       "<table border=\"1\" class=\"dataframe\">\n",
       "  <thead>\n",
       "    <tr style=\"text-align: right;\">\n",
       "      <th></th>\n",
       "      <th>Date</th>\n",
       "      <th>city</th>\n",
       "      <th>country_txt</th>\n",
       "      <th>gname</th>\n",
       "      <th>Weapon</th>\n",
       "      <th>nwound</th>\n",
       "      <th>nkill</th>\n",
       "      <th>Description</th>\n",
       "      <th>iyear</th>\n",
       "      <th>imonth</th>\n",
       "      <th>iday</th>\n",
       "      <th>region</th>\n",
       "    </tr>\n",
       "  </thead>\n",
       "  <tbody>\n",
       "    <tr>\n",
       "      <th>4995</th>\n",
       "      <td>1987-11-20</td>\n",
       "      <td>Davao</td>\n",
       "      <td>Philippines</td>\n",
       "      <td>New People's Army (NPA)</td>\n",
       "      <td>Unknown</td>\n",
       "      <td>0</td>\n",
       "      <td>0</td>\n",
       "      <td>PHILIPPINES.  The New People's Army (NPA) carr...</td>\n",
       "      <td>1987</td>\n",
       "      <td>11</td>\n",
       "      <td>20</td>\n",
       "      <td>5.0</td>\n",
       "    </tr>\n",
       "    <tr>\n",
       "      <th>4996</th>\n",
       "      <td>1987-11-25</td>\n",
       "      <td>NaN</td>\n",
       "      <td>Zimbabwe</td>\n",
       "      <td>Other</td>\n",
       "      <td>Firearms</td>\n",
       "      <td>0</td>\n",
       "      <td>16</td>\n",
       "      <td>ZIMBABWE.  Antigovernment rebels attacked a mi...</td>\n",
       "      <td>1987</td>\n",
       "      <td>11</td>\n",
       "      <td>25</td>\n",
       "      <td>NaN</td>\n",
       "    </tr>\n",
       "    <tr>\n",
       "      <th>4997</th>\n",
       "      <td>1987-11-25</td>\n",
       "      <td>NaN</td>\n",
       "      <td>Kuwait</td>\n",
       "      <td>Unknown</td>\n",
       "      <td>Fire or Firebomb</td>\n",
       "      <td>0</td>\n",
       "      <td>0</td>\n",
       "      <td>KUWAIT.  An incendiary device went off at the ...</td>\n",
       "      <td>1987</td>\n",
       "      <td>11</td>\n",
       "      <td>25</td>\n",
       "      <td>NaN</td>\n",
       "    </tr>\n",
       "    <tr>\n",
       "      <th>4998</th>\n",
       "      <td>1987-11-25</td>\n",
       "      <td>Kiryat Shmona</td>\n",
       "      <td>Israel</td>\n",
       "      <td>Popular Front for the Liberation of Palestine ...</td>\n",
       "      <td>Explosives</td>\n",
       "      <td>8</td>\n",
       "      <td>7</td>\n",
       "      <td>ISRAEL.  An Arab guerrilla used a motorized ha...</td>\n",
       "      <td>1987</td>\n",
       "      <td>11</td>\n",
       "      <td>25</td>\n",
       "      <td>NaN</td>\n",
       "    </tr>\n",
       "    <tr>\n",
       "      <th>4999</th>\n",
       "      <td>1987-11-26</td>\n",
       "      <td>NaN</td>\n",
       "      <td>Israel</td>\n",
       "      <td>Palestinian Revolution Forces General Command</td>\n",
       "      <td>Explosives</td>\n",
       "      <td>3</td>\n",
       "      <td>0</td>\n",
       "      <td>ISRAEL.  The Palestinian Revolutionary Forces ...</td>\n",
       "      <td>1987</td>\n",
       "      <td>11</td>\n",
       "      <td>26</td>\n",
       "      <td>NaN</td>\n",
       "    </tr>\n",
       "  </tbody>\n",
       "</table>\n",
       "</div>"
      ]
     },
     "execution_count": 209,
     "metadata": {},
     "output_type": "execute_result"
    }
   ],
   "execution_count": 209
  },
  {
   "metadata": {
    "ExecuteTime": {
     "end_time": "2024-12-23T14:03:16.923074Z",
     "start_time": "2024-12-23T14:03:16.918388Z"
    }
   },
   "cell_type": "code",
   "source": "df1['gname'].unique()",
   "id": "e8f65ee0d0a09f25",
   "outputs": [
    {
     "data": {
      "text/plain": [
       "array(['MANO-D', '23rd of September Communist League', 'Unknown',\n",
       "       'Black Nationalists', 'Tupamaros (Uruguay)', \"New Year's Gang\",\n",
       "       'Weather Underground, Weathermen', 'Left-Wing Militants',\n",
       "       'Armed Commandos of Liberation', 'Commune 1',\n",
       "       'Eritrean Liberation Front', 'Strikers', 'Student Radicals',\n",
       "       'White extremists',\n",
       "       'Armed Forces of National Liberation- Venezuela (FALN)',\n",
       "       \"New People's Army (NPA)\",\n",
       "       'Armed Revolutionary Independence Movement (MIRA)',\n",
       "       'Popular Front for the Liberation of Palestine (PFLP)',\n",
       "       'Popular Front for the Liberation of Palestine, Gen Cmd (PFLP-GC)',\n",
       "       '1st of May Group', 'Rebel Armed Forces of Guatemala (FAR)',\n",
       "       'Ku Klux Klan', 'Popular Revolutionary Vanguard (VPR)',\n",
       "       'Revolutionary Force 9', 'Puerto Rican Nationalists',\n",
       "       'Chicano Liberation Front', 'Puerto Rican Resistance Movement',\n",
       "       'Black Panthers', 'Dominican Popular Movement (MPD)',\n",
       "       'Argentine Liberation Front (FAL)',\n",
       "       'Argentine National Organization Movement (MANO)',\n",
       "       'Japanese Red Army (JRA)', 'Saor Eire (Irish Republican Group)',\n",
       "       'New World Liberation Front (NWLF)', 'Cuban Exiles',\n",
       "       'The World United Formosans for Independence (WUFI)',\n",
       "       'Palestinians', 'Extraparliamentary Opposition (APO)',\n",
       "       'Revolutionary Force 26', 'Black Afro Militant Movement',\n",
       "       'Stop the War Coalition', 'Cuban Action',\n",
       "       'Jewish Defense League (JDL)', 'Right-wing extremists',\n",
       "       'Montoneros (Argentina)', 'Kabataang Makabayan (KM)',\n",
       "       'Irish Republican Army (IRA)', 'Ulster Volunteer Force (UVF)',\n",
       "       'National Committee to Combat Fascism',\n",
       "       'Revolutionary Force Seven', 'Seattle Liberation Front',\n",
       "       'Ejercito de Liberacion Nacional (Bolivia)', 'Arabs',\n",
       "       'Sandinista National Liberation Front (FSLN)',\n",
       "       \"American Servicemen's Union (ASU)\", 'GAC',\n",
       "       'Revolutionary Armed Forces- Argentina (FAR-A)', 'South Moluccans',\n",
       "       'Croatian Nationalists', 'SFT', 'Jonathan Jackson Brigade',\n",
       "       'Peronist Armed Forces (FAP)', 'White Panther Party',\n",
       "       'Revolutionary Action Party', \"Turkish People's Liberation Army\",\n",
       "       'Ejercito Revolucionaria del Pueblo (ERP) (Argentina)',\n",
       "       'Palestine Liberation Organization (PLO)', 'Welsh Extremists',\n",
       "       'Protestant extremists', 'Siah KAL',\n",
       "       \"Turkish People's Liberation Front (TPLF)(THKP-C)\",\n",
       "       'Neo-Nazi extremists', 'Front de Liberation du Quebec (FLQ)',\n",
       "       'Quartermoon Society',\n",
       "       'Students for a Democratic Society (SDS) (German)', 'Iranians',\n",
       "       'Black Liberation Army', 'Baader-Meinhof Group',\n",
       "       'Basque Fatherland and Freedom (ETA)',\n",
       "       'Irish Republican Extremists',\n",
       "       \"Socialist Patients' Collective (SPK)\",\n",
       "       'Revolutionary Committee of Mozambique (COREMO)',\n",
       "       'Tony El Pelou Band', 'BAY Bombers',\n",
       "       'Movement of the Revolutionary Left (MIR) (Venezuela)',\n",
       "       'Official Irish Republican Army (OIRA)',\n",
       "       'Catalan Liberation Front (FAC)', 'Black Cells',\n",
       "       'Secret Cuban Government', 'Students', 'RYF',\n",
       "       'Black Revolutionary Assault Team', 'Left-wing extremists',\n",
       "       \"People's Revolutionary Party\", 'Chicano Radicals',\n",
       "       'Students for a Democratic Society', 'Regulators',\n",
       "       'Revolutionary Communist League (LCR) (Spain)', 'Black September'],\n",
       "      dtype=object)"
      ]
     },
     "execution_count": 207,
     "metadata": {},
     "output_type": "execute_result"
    }
   ],
   "execution_count": 207
  },
  {
   "metadata": {
    "ExecuteTime": {
     "end_time": "2024-12-23T13:58:37.469899Z",
     "start_time": "2024-12-23T13:58:37.464651Z"
    }
   },
   "cell_type": "code",
   "source": [
    "df3['Weapon'].unique()\n",
    "#klbled"
   ],
   "id": "b0f61649c140a9f4",
   "outputs": [
    {
     "data": {
      "text/plain": [
       "array(['Firearms', 'Explosives', 'Fire or Firebomb', 'Unknown',\n",
       "       'Knives & sharp objects', 'Other', 'Chemical Agent',\n",
       "       'Remote-detonated explosive', 'Biological Agent', nan, 'Business',\n",
       "       'Telecommunication', 'Bombing'], dtype=object)"
      ]
     },
     "execution_count": 205,
     "metadata": {},
     "output_type": "execute_result"
    }
   ],
   "execution_count": 205
  },
  {
   "metadata": {
    "ExecuteTime": {
     "end_time": "2024-12-23T13:35:15.672352Z",
     "start_time": "2024-12-23T13:35:15.646345Z"
    }
   },
   "cell_type": "code",
   "source": [
    "df = pd.read_csv(path_csv1, encoding='ISO-8859-1')\n",
    "country_region_map = df[['country_txt', 'region_txt']].drop_duplicates().set_index('country_txt')['region_txt'].to_dict()\n",
    "country_region_map"
   ],
   "id": "52f29f38ddbee8a",
   "outputs": [
    {
     "data": {
      "text/plain": [
       "{'Dominican Republic': 'Central America & Caribbean',\n",
       " 'Mexico': 'North America',\n",
       " 'Philippines': 'Southeast Asia',\n",
       " 'Greece': 'Western Europe',\n",
       " 'Japan': 'East Asia',\n",
       " 'United States': 'North America',\n",
       " 'Uruguay': 'South America',\n",
       " 'Italy': 'Western Europe',\n",
       " 'East Germany (GDR)': 'Eastern Europe',\n",
       " 'Ethiopia': 'Sub-Saharan Africa',\n",
       " 'Guatemala': 'Central America & Caribbean',\n",
       " 'Venezuela': 'South America',\n",
       " 'West Germany (FRG)': 'Western Europe',\n",
       " 'Switzerland': 'Western Europe',\n",
       " 'Jordan': 'Middle East & North Africa',\n",
       " 'Spain': 'Western Europe',\n",
       " 'Brazil': 'South America',\n",
       " 'Egypt': 'Middle East & North Africa',\n",
       " 'Argentina': 'South America',\n",
       " 'Lebanon': 'Middle East & North Africa',\n",
       " 'Ireland': 'Western Europe',\n",
       " 'Turkey': 'Middle East & North Africa',\n",
       " 'Paraguay': 'South America',\n",
       " 'Iran': 'Middle East & North Africa',\n",
       " 'United Kingdom': 'Western Europe',\n",
       " 'Colombia': 'South America',\n",
       " 'Bolivia': 'South America',\n",
       " 'Nicaragua': 'Central America & Caribbean',\n",
       " 'Netherlands': 'Western Europe',\n",
       " 'Belgium': 'Western Europe',\n",
       " 'Canada': 'North America',\n",
       " 'Australia': 'Australasia & Oceania',\n",
       " 'Pakistan': 'South Asia',\n",
       " 'Zambia': 'Sub-Saharan Africa',\n",
       " 'Sweden': 'Western Europe',\n",
       " 'Costa Rica': 'Central America & Caribbean',\n",
       " 'South Yemen': 'Middle East & North Africa',\n",
       " 'Cambodia': 'Southeast Asia'}"
      ]
     },
     "execution_count": 178,
     "metadata": {},
     "output_type": "execute_result"
    }
   ],
   "execution_count": 178
  },
  {
   "metadata": {
    "ExecuteTime": {
     "end_time": "2024-12-23T14:07:49.587249Z",
     "start_time": "2024-12-23T14:07:49.581822Z"
    }
   },
   "cell_type": "code",
   "source": [
    "relvant = df2[['iyear', 'imonth', 'iday', 'region', 'country_txt', \n",
    "              'city','gname', 'nkill', \"nwound\"]]\n"
   ],
   "id": "b4b1a9f4a96ae7f4",
   "outputs": [],
   "execution_count": 211
  },
  {
   "metadata": {
    "ExecuteTime": {
     "end_time": "2024-12-22T08:53:37.170725Z",
     "start_time": "2024-12-22T08:53:37.128104Z"
    }
   },
   "cell_type": "code",
   "source": "print(relvant.dtype)",
   "id": "3e3555d684082ca1",
   "outputs": [
    {
     "ename": "AttributeError",
     "evalue": "'DataFrame' object has no attribute 'dtype'",
     "output_type": "error",
     "traceback": [
      "\u001B[1;31m---------------------------------------------------------------------------\u001B[0m",
      "\u001B[1;31mAttributeError\u001B[0m                            Traceback (most recent call last)",
      "\u001B[1;32m~\\AppData\\Local\\Temp\\ipykernel_5000\\58178384.py\u001B[0m in \u001B[0;36m?\u001B[1;34m()\u001B[0m\n\u001B[1;32m----> 1\u001B[1;33m \u001B[0mprint\u001B[0m\u001B[1;33m(\u001B[0m\u001B[0mrelvant\u001B[0m\u001B[1;33m.\u001B[0m\u001B[0mdtype\u001B[0m\u001B[1;33m)\u001B[0m\u001B[1;33m\u001B[0m\u001B[1;33m\u001B[0m\u001B[0m\n\u001B[0m",
      "\u001B[1;32m~\\PycharmProjects\\spark\\GTD-analysis\\.venv\\Lib\\site-packages\\pandas\\core\\generic.py\u001B[0m in \u001B[0;36m?\u001B[1;34m(self, name)\u001B[0m\n\u001B[0;32m   6295\u001B[0m             \u001B[1;32mand\u001B[0m \u001B[0mname\u001B[0m \u001B[1;32mnot\u001B[0m \u001B[1;32min\u001B[0m \u001B[0mself\u001B[0m\u001B[1;33m.\u001B[0m\u001B[0m_accessors\u001B[0m\u001B[1;33m\u001B[0m\u001B[1;33m\u001B[0m\u001B[0m\n\u001B[0;32m   6296\u001B[0m             \u001B[1;32mand\u001B[0m \u001B[0mself\u001B[0m\u001B[1;33m.\u001B[0m\u001B[0m_info_axis\u001B[0m\u001B[1;33m.\u001B[0m\u001B[0m_can_hold_identifiers_and_holds_name\u001B[0m\u001B[1;33m(\u001B[0m\u001B[0mname\u001B[0m\u001B[1;33m)\u001B[0m\u001B[1;33m\u001B[0m\u001B[1;33m\u001B[0m\u001B[0m\n\u001B[0;32m   6297\u001B[0m         \u001B[1;33m)\u001B[0m\u001B[1;33m:\u001B[0m\u001B[1;33m\u001B[0m\u001B[1;33m\u001B[0m\u001B[0m\n\u001B[0;32m   6298\u001B[0m             \u001B[1;32mreturn\u001B[0m \u001B[0mself\u001B[0m\u001B[1;33m[\u001B[0m\u001B[0mname\u001B[0m\u001B[1;33m]\u001B[0m\u001B[1;33m\u001B[0m\u001B[1;33m\u001B[0m\u001B[0m\n\u001B[1;32m-> 6299\u001B[1;33m         \u001B[1;32mreturn\u001B[0m \u001B[0mobject\u001B[0m\u001B[1;33m.\u001B[0m\u001B[0m__getattribute__\u001B[0m\u001B[1;33m(\u001B[0m\u001B[0mself\u001B[0m\u001B[1;33m,\u001B[0m \u001B[0mname\u001B[0m\u001B[1;33m)\u001B[0m\u001B[1;33m\u001B[0m\u001B[1;33m\u001B[0m\u001B[0m\n\u001B[0m",
      "\u001B[1;31mAttributeError\u001B[0m: 'DataFrame' object has no attribute 'dtype'"
     ]
    }
   ],
   "execution_count": 149
  },
  {
   "metadata": {
    "ExecuteTime": {
     "end_time": "2024-12-19T09:32:37.147463Z",
     "start_time": "2024-12-19T09:32:37.143557Z"
    }
   },
   "cell_type": "code",
   "source": [
    "relvant = relvant.dropna(axis=0, how='any')\n",
    "print(relvant.shape)\n",
    "\n",
    "\n"
   ],
   "id": "bee96354248440fc",
   "outputs": [
    {
     "name": "stdout",
     "output_type": "stream",
     "text": [
      "(860, 14)\n"
     ]
    }
   ],
   "execution_count": 144
  },
  {
   "metadata": {
    "ExecuteTime": {
     "end_time": "2024-12-23T13:48:47.331529Z",
     "start_time": "2024-12-23T13:48:46.982715Z"
    }
   },
   "cell_type": "code",
   "source": "",
   "id": "69a9a6fd1d12daf7",
   "outputs": [
    {
     "name": "stdout",
     "output_type": "stream",
     "text": [
      "Latitude: None, Longitude: None\n"
     ]
    }
   ],
   "execution_count": 195
  },
  {
   "metadata": {
    "ExecuteTime": {
     "end_time": "2024-12-19T09:26:24.501978Z",
     "start_time": "2024-12-19T09:26:24.499790Z"
    }
   },
   "cell_type": "code",
   "source": "",
   "id": "6255806f5f5d793e",
   "outputs": [],
   "execution_count": null
  },
  {
   "metadata": {},
   "cell_type": "code",
   "outputs": [],
   "execution_count": null,
   "source": "",
   "id": "a65d0e76cd40739c"
  }
 ],
 "metadata": {
  "kernelspec": {
   "display_name": "Python 3",
   "language": "python",
   "name": "python3"
  },
  "language_info": {
   "codemirror_mode": {
    "name": "ipython",
    "version": 2
   },
   "file_extension": ".py",
   "mimetype": "text/x-python",
   "name": "python",
   "nbconvert_exporter": "python",
   "pygments_lexer": "ipython2",
   "version": "2.7.6"
  }
 },
 "nbformat": 4,
 "nbformat_minor": 5
}
